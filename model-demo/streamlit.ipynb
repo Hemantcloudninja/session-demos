{
 "cells": [
  {
   "cell_type": "code",
   "execution_count": null,
   "id": "290e8124",
   "metadata": {},
   "outputs": [],
   "source": [
    "!pip install streamlit pickle numpy\n",
    "!pip install streamlit\n",
    "!pip freeze > requirements.txt"
   ]
  },
  {
   "cell_type": "code",
   "execution_count": null,
   "id": "6d7d1282",
   "metadata": {},
   "outputs": [],
   "source": [
    "\n",
    "import pickle\n",
    "import numpy as np\n"
   ]
  },
  {
   "cell_type": "code",
   "execution_count": null,
   "id": "4991b8e2",
   "metadata": {},
   "outputs": [],
   "source": [
    "import pickle\n",
    "\n",
    "with open(\"model.pkl\", \"rb\") as f:\n",
    "    model = pickle.load(f)"
   ]
  },
  {
   "cell_type": "code",
   "execution_count": null,
   "id": "a1239936",
   "metadata": {},
   "outputs": [],
   "source": [
    "import streamlit as st\n",
    "st.title(\"Loan Approval Prediction\")\n",
    "income = st.number_input(\"Income\", min_value=0)\n",
    "credit_score = st.number_input(\"Credit Score\", min_value=300, max_value=900)\n",
    "loan_amount = st.number_input(\"Loan Amount\", min_value=1000)\n",
    "loan_term = st.selectbox(\"Loan Term (months)\", [180, 240, 360])\n",
    "\n",
    "if st.button(\"Predict\"):\n",
    "    input_data = np.array([[income, credit_score, loan_amount, loan_term]])\n",
    "    prediction = model.predict(input_data)[0]\n",
    "\n",
    "    if prediction == 1:\n",
    "        st.success(\"✅ Loan Approved\")\n",
    "    else:\n",
    "        st.error(\"❌ Loan Not Approved\")"
   ]
  },
  {
   "cell_type": "code",
   "execution_count": null,
   "id": "eab1105b",
   "metadata": {},
   "outputs": [],
   "source": [
    "!streamlit run loan_app.py"
   ]
  }
 ],
 "metadata": {
  "kernelspec": {
   "display_name": "venv",
   "language": "python",
   "name": "python3"
  },
  "language_info": {
   "codemirror_mode": {
    "name": "ipython",
    "version": 3
   },
   "file_extension": ".py",
   "mimetype": "text/x-python",
   "name": "python",
   "nbconvert_exporter": "python",
   "pygments_lexer": "ipython3",
   "version": "3.13.1"
  }
 },
 "nbformat": 4,
 "nbformat_minor": 5
}
